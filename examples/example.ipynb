{
 "cells": [
  {
   "cell_type": "markdown",
   "id": "e372f727",
   "metadata": {},
   "source": [
    "This is running `nu` code."
   ]
  },
  {
   "cell_type": "code",
   "execution_count": 1,
   "id": "fb2910e8",
   "metadata": {},
   "outputs": [
    {
     "data": {
      "text/plain": [
       "     __  ,\r\n",
       " .--()°'.' You're running `nu-jupyter-kernel`,\r\n",
       "'|, . ,'   based on the `nu` language,\r\n",
       " !_-(_\\    where all data is structured!\r\n"
      ]
     },
     "metadata": {},
     "output_type": "display_data"
    },
    {
     "data": {
      "application/json": "Welcome to Nushell.",
      "text/html": [
       "<div style=\"background-color:white;color:black;\">Welcome to Nushell.</div>"
      ],
      "text/markdown": [
       "Welcome to Nushell."
      ],
      "text/plain": [
       "Welcome to Nushell."
      ]
     },
     "execution_count": 1,
     "metadata": {},
     "output_type": "execute_result"
    }
   ],
   "source": [
    "open ../banner.txt | nuju print -f txt\n",
    "help | lines | first"
   ]
  }
 ],
 "metadata": {
  "kernelspec": {
   "display_name": "Nushell",
   "language": "nushell",
   "name": "nu"
  },
  "language_info": {
   "file_extension": ".nu",
   "mimetype": "text/x-nushell",
   "name": "nushell",
   "version": "0.105.1"
  }
 },
 "nbformat": 4,
 "nbformat_minor": 5
}
